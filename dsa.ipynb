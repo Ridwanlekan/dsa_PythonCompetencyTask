{
 "cells": [
  {
   "cell_type": "code",
   "execution_count": 1,
   "metadata": {
    "collapsed": true
   },
   "outputs": [],
   "source": [
    "#import needed library\n",
    "import pandas as pd"
   ]
  },
  {
   "cell_type": "code",
   "execution_count": 2,
   "metadata": {
    "collapsed": true
   },
   "outputs": [],
   "source": [
    "dataset = pd.read_csv('./data/CountryData.csv')"
   ]
  },
  {
   "cell_type": "code",
   "execution_count": 3,
   "metadata": {
    "collapsed": false
   },
   "outputs": [
    {
     "data": {
      "text/html": [
       "<div>\n",
       "<style scoped>\n",
       "    .dataframe tbody tr th:only-of-type {\n",
       "        vertical-align: middle;\n",
       "    }\n",
       "\n",
       "    .dataframe tbody tr th {\n",
       "        vertical-align: top;\n",
       "    }\n",
       "\n",
       "    .dataframe thead th {\n",
       "        text-align: right;\n",
       "    }\n",
       "</style>\n",
       "<table border=\"1\" class=\"dataframe\">\n",
       "  <thead>\n",
       "    <tr style=\"text-align: right;\">\n",
       "      <th></th>\n",
       "      <th>Country Name</th>\n",
       "      <th>Population</th>\n",
       "      <th>Literacy</th>\n",
       "      <th>Internet</th>\n",
       "      <th>Mobile</th>\n",
       "      <th>Elect. Production</th>\n",
       "      <th>Elect. Consumption</th>\n",
       "    </tr>\n",
       "  </thead>\n",
       "  <tbody>\n",
       "    <tr>\n",
       "      <th>0</th>\n",
       "      <td>Algeria</td>\n",
       "      <td>38813720</td>\n",
       "      <td>73</td>\n",
       "      <td>4700000</td>\n",
       "      <td>37692000</td>\n",
       "      <td>46</td>\n",
       "      <td>34</td>\n",
       "    </tr>\n",
       "    <tr>\n",
       "      <th>1</th>\n",
       "      <td>Angola</td>\n",
       "      <td>19088106</td>\n",
       "      <td>70</td>\n",
       "      <td>606700</td>\n",
       "      <td>9800000</td>\n",
       "      <td>5</td>\n",
       "      <td>5</td>\n",
       "    </tr>\n",
       "    <tr>\n",
       "      <th>2</th>\n",
       "      <td>Benin</td>\n",
       "      <td>10160556</td>\n",
       "      <td>42</td>\n",
       "      <td>200100</td>\n",
       "      <td>8408000</td>\n",
       "      <td>0</td>\n",
       "      <td>1</td>\n",
       "    </tr>\n",
       "    <tr>\n",
       "      <th>3</th>\n",
       "      <td>Botswana</td>\n",
       "      <td>2155784</td>\n",
       "      <td>85</td>\n",
       "      <td>120000</td>\n",
       "      <td>3082000</td>\n",
       "      <td>0</td>\n",
       "      <td>3</td>\n",
       "    </tr>\n",
       "    <tr>\n",
       "      <th>4</th>\n",
       "      <td>Burkina Faso</td>\n",
       "      <td>18365124</td>\n",
       "      <td>29</td>\n",
       "      <td>178100</td>\n",
       "      <td>9980000</td>\n",
       "      <td>1</td>\n",
       "      <td>1</td>\n",
       "    </tr>\n",
       "  </tbody>\n",
       "</table>\n",
       "</div>"
      ],
      "text/plain": [
       "   Country Name  Population  Literacy  Internet    Mobile  Elect. Production  \\\n",
       "0       Algeria    38813720        73   4700000  37692000                 46   \n",
       "1        Angola    19088106        70    606700   9800000                  5   \n",
       "2         Benin    10160556        42    200100   8408000                  0   \n",
       "3      Botswana     2155784        85    120000   3082000                  0   \n",
       "4  Burkina Faso    18365124        29    178100   9980000                  1   \n",
       "\n",
       "   Elect. Consumption  \n",
       "0                  34  \n",
       "1                   5  \n",
       "2                   1  \n",
       "3                   3  \n",
       "4                   1  "
      ]
     },
     "execution_count": 3,
     "metadata": {},
     "output_type": "execute_result"
    }
   ],
   "source": [
    "dataset.head()"
   ]
  },
  {
   "cell_type": "markdown",
   "metadata": {},
   "source": [
    "# Question 1: Total Population in Africa\n",
    "\n",
    "This returns the sum of the population for each Africa country captured in the dataset"
   ]
  },
  {
   "cell_type": "code",
   "execution_count": 4,
   "metadata": {
    "collapsed": false
   },
   "outputs": [
    {
     "name": "stdout",
     "output_type": "stream",
     "text": [
      "1112649407\n"
     ]
    }
   ],
   "source": [
    "# the total population in Africa\n",
    "total_africa_population = dataset['Population'].sum()\n",
    "print(total_africa_population)"
   ]
  },
  {
   "cell_type": "markdown",
   "metadata": {},
   "source": [
    "# Question 2: Africa Most Populous Country\n",
    "\n",
    "This returns the African country with the highest population"
   ]
  },
  {
   "cell_type": "code",
   "execution_count": 5,
   "metadata": {
    "collapsed": false
   },
   "outputs": [
    {
     "name": "stdout",
     "output_type": "stream",
     "text": [
      "Nigeria\n"
     ]
    }
   ],
   "source": [
    "##the most populous country in Africa\n",
    "africa_most_populous_country = dataset['Country Name'][dataset['Population'].idxmax()]\n",
    "print(africa_most_populous_country)"
   ]
  },
  {
   "cell_type": "markdown",
   "metadata": {},
   "source": [
    "# Question 3: Average Literacy Rate (%) in Africa \n",
    "\n",
    "This returns the average literacy rate in Africa"
   ]
  },
  {
   "cell_type": "code",
   "execution_count": 6,
   "metadata": {
    "collapsed": false
   },
   "outputs": [
    {
     "name": "stdout",
     "output_type": "stream",
     "text": [
      "0.6399399343498683\n"
     ]
    }
   ],
   "source": [
    "# Africa Average Literacy rate\n",
    "dataset['Literacy_Rate_Per_Country'] = ((dataset['Literacy']/100)*dataset['Population'])\n",
    "africa_average_literacy = dataset['Literacy_Rate_Per_Country'].sum()/total_africa_population\n",
    "print(africa_average_literacy)"
   ]
  },
  {
   "cell_type": "markdown",
   "metadata": {},
   "source": [
    "# Question 4: Africa Country with the highest number of Mobile Subscriptions per Capita\n",
    "\n",
    "This returns the African country with the highest number of mobile subscriptions per capita"
   ]
  },
  {
   "cell_type": "code",
   "execution_count": 7,
   "metadata": {
    "collapsed": false
   },
   "outputs": [
    {
     "name": "stdout",
     "output_type": "stream",
     "text": [
      "Gabon\n"
     ]
    }
   ],
   "source": [
    "dataset['Mobile/Population'] = dataset['Mobile']/dataset['Population']\n",
    "highest_mobile_sub_per_capital = dataset['Country Name'][dataset['Mobile/Population'].idxmax()]\n",
    "print(highest_mobile_sub_per_capital)"
   ]
  },
  {
   "cell_type": "markdown",
   "metadata": {},
   "source": [
    "# Question 5: Africa countries that produce more electricity than they consume\n",
    "\n",
    "This returns the list of African countries that produces more electricity than they consume"
   ]
  },
  {
   "cell_type": "code",
   "execution_count": 8,
   "metadata": {
    "collapsed": false
   },
   "outputs": [
    {
     "name": "stdout",
     "output_type": "stream",
     "text": [
      "Algeria, Cameroon, Congo Democratic Republic of the, Cote d'Ivoire, Egypt, Ethiopia, Gabon, Ghana, Kenya, Libya, Mali, Mauritius, Mozambique, Nigeria, Senegal, South Africa, Sudan, Tanzania, Tunisia, Zambia\n"
     ]
    }
   ],
   "source": [
    "# Africa countries that export electricity\n",
    "electricity_exporters =[]\n",
    "w = dataset['Country Name'][dataset['Elect. Production'] > dataset['Elect. Consumption']]\n",
    "for (a,b) in enumerate(w):\n",
    "    electricity_exporters.append(b)\n",
    "#recode countries having comma with no-space\n",
    "electricity_exporters = [str.replace(',', '') for str in electricity_exporters]\n",
    "# create the electricity_exporters strings from the list\n",
    "electricity_exporters = ', '.join(electricity_exporters )\n",
    "print(electricity_exporters)"
   ]
  },
  {
   "cell_type": "markdown",
   "metadata": {},
   "source": [
    "# Question 6: Difference between the Electricity Produced per Capita and the Electricity Consumed per Capita\n",
    "\n",
    "This returns the difference between the electricity produced per capita and the electricity consumed per capita"
   ]
  },
  {
   "cell_type": "code",
   "execution_count": 9,
   "metadata": {
    "collapsed": false
   },
   "outputs": [
    {
     "name": "stdout",
     "output_type": "stream",
     "text": [
      "5.099101204109383e-08\n"
     ]
    }
   ],
   "source": [
    "#difference between Africa's eletricity produced per capital and the electricity consumed per capital\n",
    "dataset['Elect_Prod_Per_Cap'] = dataset['Elect. Production']/dataset['Population']\n",
    "dataset['Elect_Con_Per_Cap'] = dataset['Elect. Consumption']/dataset['Population']\n",
    "electricity_difference = dataset['Elect_Prod_Per_Cap'].sum()-dataset['Elect_Con_Per_Cap'].sum()\n",
    "print(electricity_difference)"
   ]
  },
  {
   "cell_type": "code",
   "execution_count": 10,
   "metadata": {
    "collapsed": false,
    "scrolled": true
   },
   "outputs": [
    {
     "data": {
      "text/html": [
       "<div>\n",
       "<style scoped>\n",
       "    .dataframe tbody tr th:only-of-type {\n",
       "        vertical-align: middle;\n",
       "    }\n",
       "\n",
       "    .dataframe tbody tr th {\n",
       "        vertical-align: top;\n",
       "    }\n",
       "\n",
       "    .dataframe thead th {\n",
       "        text-align: right;\n",
       "    }\n",
       "</style>\n",
       "<table border=\"1\" class=\"dataframe\">\n",
       "  <thead>\n",
       "    <tr style=\"text-align: right;\">\n",
       "      <th></th>\n",
       "      <th>Country Name</th>\n",
       "      <th>Population</th>\n",
       "      <th>Literacy</th>\n",
       "      <th>Internet</th>\n",
       "      <th>Mobile</th>\n",
       "      <th>Elect. Production</th>\n",
       "      <th>Elect. Consumption</th>\n",
       "      <th>Literacy_Rate_Per_Country</th>\n",
       "      <th>Mobile/Population</th>\n",
       "      <th>Elect_Prod_Per_Cap</th>\n",
       "      <th>Elect_Con_Per_Cap</th>\n",
       "    </tr>\n",
       "  </thead>\n",
       "  <tbody>\n",
       "    <tr>\n",
       "      <th>0</th>\n",
       "      <td>Algeria</td>\n",
       "      <td>38813720</td>\n",
       "      <td>73</td>\n",
       "      <td>4700000</td>\n",
       "      <td>37692000</td>\n",
       "      <td>46</td>\n",
       "      <td>34</td>\n",
       "      <td>28334015.60</td>\n",
       "      <td>0.971100</td>\n",
       "      <td>1.185148e-06</td>\n",
       "      <td>8.759789e-07</td>\n",
       "    </tr>\n",
       "    <tr>\n",
       "      <th>1</th>\n",
       "      <td>Angola</td>\n",
       "      <td>19088106</td>\n",
       "      <td>70</td>\n",
       "      <td>606700</td>\n",
       "      <td>9800000</td>\n",
       "      <td>5</td>\n",
       "      <td>5</td>\n",
       "      <td>13361674.20</td>\n",
       "      <td>0.513409</td>\n",
       "      <td>2.619432e-07</td>\n",
       "      <td>2.619432e-07</td>\n",
       "    </tr>\n",
       "    <tr>\n",
       "      <th>2</th>\n",
       "      <td>Benin</td>\n",
       "      <td>10160556</td>\n",
       "      <td>42</td>\n",
       "      <td>200100</td>\n",
       "      <td>8408000</td>\n",
       "      <td>0</td>\n",
       "      <td>1</td>\n",
       "      <td>4267433.52</td>\n",
       "      <td>0.827514</td>\n",
       "      <td>0.000000e+00</td>\n",
       "      <td>9.841981e-08</td>\n",
       "    </tr>\n",
       "    <tr>\n",
       "      <th>3</th>\n",
       "      <td>Botswana</td>\n",
       "      <td>2155784</td>\n",
       "      <td>85</td>\n",
       "      <td>120000</td>\n",
       "      <td>3082000</td>\n",
       "      <td>0</td>\n",
       "      <td>3</td>\n",
       "      <td>1832416.40</td>\n",
       "      <td>1.429642</td>\n",
       "      <td>0.000000e+00</td>\n",
       "      <td>1.391605e-06</td>\n",
       "    </tr>\n",
       "    <tr>\n",
       "      <th>4</th>\n",
       "      <td>Burkina Faso</td>\n",
       "      <td>18365124</td>\n",
       "      <td>29</td>\n",
       "      <td>178100</td>\n",
       "      <td>9980000</td>\n",
       "      <td>1</td>\n",
       "      <td>1</td>\n",
       "      <td>5325885.96</td>\n",
       "      <td>0.543421</td>\n",
       "      <td>5.445103e-08</td>\n",
       "      <td>5.445103e-08</td>\n",
       "    </tr>\n",
       "  </tbody>\n",
       "</table>\n",
       "</div>"
      ],
      "text/plain": [
       "   Country Name  Population  Literacy  Internet    Mobile  Elect. Production  \\\n",
       "0       Algeria    38813720        73   4700000  37692000                 46   \n",
       "1        Angola    19088106        70    606700   9800000                  5   \n",
       "2         Benin    10160556        42    200100   8408000                  0   \n",
       "3      Botswana     2155784        85    120000   3082000                  0   \n",
       "4  Burkina Faso    18365124        29    178100   9980000                  1   \n",
       "\n",
       "   Elect. Consumption  Literacy_Rate_Per_Country  Mobile/Population  \\\n",
       "0                  34                28334015.60           0.971100   \n",
       "1                   5                13361674.20           0.513409   \n",
       "2                   1                 4267433.52           0.827514   \n",
       "3                   3                 1832416.40           1.429642   \n",
       "4                   1                 5325885.96           0.543421   \n",
       "\n",
       "   Elect_Prod_Per_Cap  Elect_Con_Per_Cap  \n",
       "0        1.185148e-06       8.759789e-07  \n",
       "1        2.619432e-07       2.619432e-07  \n",
       "2        0.000000e+00       9.841981e-08  \n",
       "3        0.000000e+00       1.391605e-06  \n",
       "4        5.445103e-08       5.445103e-08  "
      ]
     },
     "execution_count": 10,
     "metadata": {},
     "output_type": "execute_result"
    }
   ],
   "source": [
    "#view the entire dataset again\n",
    "dataset.head()"
   ]
  },
  {
   "cell_type": "code",
   "execution_count": 11,
   "metadata": {
    "collapsed": false
   },
   "outputs": [],
   "source": [
    "# set maximum column width to 300, in other to print lengthy values i.e. the 20 countries\n",
    "pd.options.display.max_colwidth = 300"
   ]
  },
  {
   "cell_type": "markdown",
   "metadata": {},
   "source": [
    "# Writing the answers of Question 1 - 6 to text format"
   ]
  },
  {
   "cell_type": "code",
   "execution_count": 12,
   "metadata": {
    "collapsed": false
   },
   "outputs": [
    {
     "data": {
      "text/html": [
       "<div>\n",
       "<style scoped>\n",
       "    .dataframe tbody tr th:only-of-type {\n",
       "        vertical-align: middle;\n",
       "    }\n",
       "\n",
       "    .dataframe tbody tr th {\n",
       "        vertical-align: top;\n",
       "    }\n",
       "\n",
       "    .dataframe thead th {\n",
       "        text-align: right;\n",
       "    }\n",
       "</style>\n",
       "<table border=\"1\" class=\"dataframe\">\n",
       "  <thead>\n",
       "    <tr style=\"text-align: right;\">\n",
       "      <th></th>\n",
       "      <th>Answers</th>\n",
       "    </tr>\n",
       "  </thead>\n",
       "  <tbody>\n",
       "    <tr>\n",
       "      <th>1</th>\n",
       "      <td>1112649407</td>\n",
       "    </tr>\n",
       "    <tr>\n",
       "      <th>2</th>\n",
       "      <td>Nigeria</td>\n",
       "    </tr>\n",
       "    <tr>\n",
       "      <th>3</th>\n",
       "      <td>0.63994</td>\n",
       "    </tr>\n",
       "    <tr>\n",
       "      <th>4</th>\n",
       "      <td>Gabon</td>\n",
       "    </tr>\n",
       "    <tr>\n",
       "      <th>5</th>\n",
       "      <td>Algeria, Cameroon, Congo Democratic Republic of the, Cote d'Ivoire, Egypt, Ethiopia, Gabon, Ghana, Kenya, Libya, Mali, Mauritius, Mozambique, Nigeria, Senegal, South Africa, Sudan, Tanzania, Tunisia, Zambia</td>\n",
       "    </tr>\n",
       "    <tr>\n",
       "      <th>6</th>\n",
       "      <td>5.0991e-08</td>\n",
       "    </tr>\n",
       "  </tbody>\n",
       "</table>\n",
       "</div>"
      ],
      "text/plain": [
       "                                                                                                                                                                                                          Answers\n",
       "1                                                                                                                                                                                                      1112649407\n",
       "2                                                                                                                                                                                                         Nigeria\n",
       "3                                                                                                                                                                                                         0.63994\n",
       "4                                                                                                                                                                                                           Gabon\n",
       "5  Algeria, Cameroon, Congo Democratic Republic of the, Cote d'Ivoire, Egypt, Ethiopia, Gabon, Ghana, Kenya, Libya, Mali, Mauritius, Mozambique, Nigeria, Senegal, South Africa, Sudan, Tanzania, Tunisia, Zambia\n",
       "6                                                                                                                                                                                                      5.0991e-08"
      ]
     },
     "execution_count": 12,
     "metadata": {},
     "output_type": "execute_result"
    }
   ],
   "source": [
    "answers = [total_africa_population, africa_most_populous_country, africa_average_literacy, highest_mobile_sub_per_capital,\n",
    "           electricity_exporters, electricity_difference]\n",
    "answers = pd.DataFrame(answers, columns=['Answers'], index=[1,2,3,4,5,6])\n",
    "answers"
   ]
  },
  {
   "cell_type": "code",
   "execution_count": 13,
   "metadata": {
    "collapsed": false
   },
   "outputs": [],
   "source": [
    "#final answer converted to a txt file i.e. output.txt\n",
    "answers.to_csv('output.txt', index=False, sep='\\t')"
   ]
  },
  {
   "cell_type": "code",
   "execution_count": null,
   "metadata": {
    "collapsed": true
   },
   "outputs": [],
   "source": []
  }
 ],
 "metadata": {
  "kernelspec": {
   "display_name": "Python 3",
   "language": "python",
   "name": "python3"
  },
  "language_info": {
   "codemirror_mode": {
    "name": "ipython",
    "version": 3
   },
   "file_extension": ".py",
   "mimetype": "text/x-python",
   "name": "python",
   "nbconvert_exporter": "python",
   "pygments_lexer": "ipython3",
   "version": "3.5.3"
  }
 },
 "nbformat": 4,
 "nbformat_minor": 2
}
